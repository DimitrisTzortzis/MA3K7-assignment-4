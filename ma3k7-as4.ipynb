{
 "cells": [
  {
   "cell_type": "code",
   "execution_count": null,
   "id": "d52e8f2b",
   "metadata": {},
   "outputs": [],
   "source": [
    "###sequence calculation"
   ]
  },
  {
   "cell_type": "code",
   "execution_count": 8,
   "id": "7f077ab6",
   "metadata": {},
   "outputs": [
    {
     "data": {
      "text/plain": [
       "{2: 1,\n",
       " 3: 2,\n",
       " 4: 3,\n",
       " 5: 5,\n",
       " 6: 8,\n",
       " 7: 13,\n",
       " 8: 21,\n",
       " 9: 34,\n",
       " 10: 55,\n",
       " 11: 89,\n",
       " 12: 144,\n",
       " 13: 233,\n",
       " 14: 377,\n",
       " 15: 610,\n",
       " 16: 987,\n",
       " 17: 1597,\n",
       " 18: 2584,\n",
       " 19: 4181,\n",
       " 20: 6765,\n",
       " 21: 10946,\n",
       " 22: 17711,\n",
       " 23: 28657,\n",
       " 24: 46368,\n",
       " 25: 75025}"
      ]
     },
     "execution_count": 8,
     "metadata": {},
     "output_type": "execute_result"
    }
   ],
   "source": [
    "# Define the function to compute the sequence based on the recurrence relation provided\n",
    "def compute_sequence(n):\n",
    "    # Base cases\n",
    "    a = {2: 1, 3: 2, 4: 3, 5: 5}\n",
    "    # Calculate the sequence up to a(n)\n",
    "    for i in range(6, n + 1):\n",
    "        a[i] = 2 * a[i - 2] + a[i - 3]\n",
    "    return a\n",
    "\n",
    "# Calculate the sequence up to a(25)\n",
    "sequence_up_to_25 = compute_sequence(25)\n",
    "sequence_up_to_25\n"
   ]
  },
  {
   "cell_type": "code",
   "execution_count": null,
   "id": "ff2dbf50",
   "metadata": {},
   "outputs": [],
   "source": [
    "###number 25"
   ]
  },
  {
   "cell_type": "code",
   "execution_count": 7,
   "id": "71d36e4d",
   "metadata": {},
   "outputs": [
    {
     "name": "stdout",
     "output_type": "stream",
     "text": [
      "Probability of landing on 25 after 24 coin tosses: 0.6698\n"
     ]
    }
   ],
   "source": [
    "import random\n",
    "\n",
    "# Function to simulate the coin toss \n",
    "def simulate_coin_tosses_adjusted(num_tosses):\n",
    "    position = 1  # Start from position 1\n",
    "    for _ in range(num_tosses):\n",
    "        toss = random.randint(1, 2)  # Toss the coin\n",
    "        position += toss  # Move the position by the result of the toss\n",
    "        if position == 25:  # Check if we landed on 25\n",
    "            return 1  # Return 1 if we landed on 25\n",
    "    return 0  # Return 0 if we did not land on 25\n",
    "\n",
    "# Number of simulations\n",
    "num_simulations = 10000\n",
    "landing_on_25_adjusted = 0\n",
    "\n",
    "# Run the adjusted simulations\n",
    "for _ in range(num_simulations):\n",
    "    landing_on_25_adjusted += simulate_coin_tosses_adjusted(24)\n",
    "\n",
    "# Calculate the adjusted probability\n",
    "probability_adjusted = landing_on_25_adjusted / num_simulations\n",
    "print(f\"Probability of landing on 25 after 24 coin tosses: {probability_adjusted}\")\n"
   ]
  },
  {
   "cell_type": "code",
   "execution_count": null,
   "id": "d786fb31",
   "metadata": {},
   "outputs": [],
   "source": [
    "###number 3"
   ]
  },
  {
   "cell_type": "code",
   "execution_count": 6,
   "id": "79bef780",
   "metadata": {},
   "outputs": [
    {
     "data": {
      "text/plain": [
       "0.7531"
      ]
     },
     "execution_count": 6,
     "metadata": {},
     "output_type": "execute_result"
    }
   ],
   "source": [
    "import random\n",
    "\n",
    "# Define the number of simulations\n",
    "num_simulations = 10000\n",
    "\n",
    "# Simulation function\n",
    "def simulate_landing_on_3(num_tosses):\n",
    "    position = 1  # Start from position 1\n",
    "    for _ in range(num_tosses):\n",
    "        toss = random.randint(1, 2)  # Toss the coin\n",
    "        position += toss  # Move the position by the result of the toss\n",
    "        if position == 3:  # Check if we landed on 3\n",
    "            return 1  # Return 1 if we landed on 3\n",
    "    return 0  # Return 0 if we did not land on 3\n",
    "\n",
    "# Run the simulation\n",
    "landing_on_3 = sum(simulate_landing_on_3(24) for _ in range(num_simulations))\n",
    "\n",
    "# Calculate the probability of landing on number 3\n",
    "probability_landing_on_3 = landing_on_3 / num_simulations\n",
    "\n",
    "# Output the result\n",
    "probability_landing_on_3\n"
   ]
  },
  {
   "cell_type": "code",
   "execution_count": null,
   "id": "163a8f6d",
   "metadata": {},
   "outputs": [],
   "source": []
  }
 ],
 "metadata": {
  "kernelspec": {
   "display_name": "Python 3 (ipykernel)",
   "language": "python",
   "name": "python3"
  },
  "language_info": {
   "codemirror_mode": {
    "name": "ipython",
    "version": 3
   },
   "file_extension": ".py",
   "mimetype": "text/x-python",
   "name": "python",
   "nbconvert_exporter": "python",
   "pygments_lexer": "ipython3",
   "version": "3.9.7"
  }
 },
 "nbformat": 4,
 "nbformat_minor": 5
}
